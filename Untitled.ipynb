{
 "cells": [
  {
   "cell_type": "code",
   "execution_count": 1,
   "id": "6f079a28",
   "metadata": {},
   "outputs": [
    {
     "data": {
      "text/plain": [
       "['Breakout (Paddle) (1978) (Atari, Brad Stewart) (CX2622, CX2622P) (PAL)',\n",
       " 'Breakout - Breakaway IV (Paddle) (1978) (Atari, Brad Stewart - Sears) (CX2622 - 6-99813, 49-75107) ~',\n",
       " 'Pac Man (1983) (CCE) (C-812) [a]']"
      ]
     },
     "execution_count": 1,
     "metadata": {},
     "output_type": "execute_result"
    }
   ],
   "source": [
    "import os\n",
    "\n",
    "try:\n",
    "    import atari_py_roms\n",
    "    _games_dir = os.path.join(atari_py_roms.__path__[0], \"./ROMS\")\n",
    "except ImportError:\n",
    "    _games_dir = \".//ROMS\"\n",
    "\n",
    "\n",
    "def get_games_dir():\n",
    "    return _games_dir\n",
    "\n",
    "\n",
    "def get_game_path(game_name):\n",
    "    path = os.path.join(_games_dir, game_name) + \".bin\"\n",
    "    if not os.path.exists(path):\n",
    "        raise Exception('ROM is missing for %s, see https://github.com/openai/atari-py#roms for instructions' % (game_name,))\n",
    "    return path\n",
    "\n",
    "def list_games():\n",
    "    files = os.listdir(_games_dir)\n",
    "    return [os.path.basename(f).split(\".\")[0] for f in files]\n",
    "\n",
    "\n",
    "list_games()"
   ]
  }
 ],
 "metadata": {
  "kernelspec": {
   "display_name": "Python 3 (ipykernel)",
   "language": "python",
   "name": "python3"
  },
  "language_info": {
   "codemirror_mode": {
    "name": "ipython",
    "version": 3
   },
   "file_extension": ".py",
   "mimetype": "text/x-python",
   "name": "python",
   "nbconvert_exporter": "python",
   "pygments_lexer": "ipython3",
   "version": "3.8.3"
  }
 },
 "nbformat": 4,
 "nbformat_minor": 5
}
