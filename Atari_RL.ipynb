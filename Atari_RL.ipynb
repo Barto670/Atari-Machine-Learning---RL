{
 "cells": [
  {
   "cell_type": "code",
   "execution_count": 1,
   "id": "1ebee817",
   "metadata": {},
   "outputs": [
    {
     "data": {
      "text/plain": [
       "['Breakout']"
      ]
     },
     "execution_count": 1,
     "metadata": {},
     "output_type": "execute_result"
    }
   ],
   "source": [
    "import os\n",
    "\n",
    "try:\n",
    "    import atari_py_roms\n",
    "    _games_dir = os.path.join(atari_py_roms.__path__[0], \"./ROMS\")\n",
    "except ImportError:\n",
    "    _games_dir = \"./ROMS\"\n",
    "\n",
    "\n",
    "def get_games_dir():\n",
    "    return _games_dir\n",
    "\n",
    "\n",
    "def get_game_path(game_name):\n",
    "    path = os.path.join(_games_dir, game_name) + \".bin\"\n",
    "    if not os.path.exists(path):\n",
    "        raise Exception('ROM is missing for %s, see https://github.com/openai/atari-py#roms for instructions' % (game_name,))\n",
    "    return path\n",
    "\n",
    "def list_games():\n",
    "    files = os.listdir(_games_dir)\n",
    "    return [os.path.basename(f).split(\".\")[0] for f in files]\n",
    "\n",
    "\n",
    "list_games()\n",
    "\n"
   ]
  },
  {
   "cell_type": "code",
   "execution_count": 2,
   "id": "66a12916",
   "metadata": {},
   "outputs": [],
   "source": [
    "from ale_py import ALEInterface\n",
    "\n",
    "ale = ALEInterface()"
   ]
  },
  {
   "cell_type": "code",
   "execution_count": 3,
   "id": "1a39d2fd",
   "metadata": {},
   "outputs": [],
   "source": [
    "from ale_py.roms import Breakout\n",
    "\n",
    "ale.loadROM(Breakout)"
   ]
  },
  {
   "cell_type": "code",
   "execution_count": 4,
   "id": "e25c5c58",
   "metadata": {},
   "outputs": [],
   "source": [
    "import gym\n",
    "\n",
    "env = gym.make('ALE/Breakout-v5')"
   ]
  },
  {
   "cell_type": "code",
   "execution_count": 5,
   "id": "ae3cba47",
   "metadata": {},
   "outputs": [
    {
     "name": "stderr",
     "output_type": "stream",
     "text": [
      "c:\\users\\barto-pc\\appdata\\local\\programs\\python\\python38\\lib\\site-packages\\gym\\envs\\atari\\environment.py:255: UserWarning: \u001b[33mWARN: We strongly suggest supplying `render_mode` when constructing your environment, e.g., gym.make(ID, render_mode='human'). Using `render_mode` provides access to proper scaling, audio support, and proper framerates.\u001b[0m\n",
      "  logger.warn(\n",
      "c:\\users\\barto-pc\\appdata\\local\\programs\\python\\python38\\lib\\site-packages\\pyglet\\image\\codecs\\wic.py:289: UserWarning: [WinError -2147417850] Cannot change thread mode after it is set\n",
      "  warnings.warn(str(err))\n"
     ]
    },
    {
     "data": {
      "text/plain": [
       "True"
      ]
     },
     "execution_count": 5,
     "metadata": {},
     "output_type": "execute_result"
    }
   ],
   "source": [
    "env.render()"
   ]
  }
 ],
 "metadata": {
  "kernelspec": {
   "display_name": "Python 3 (ipykernel)",
   "language": "python",
   "name": "python3"
  },
  "language_info": {
   "codemirror_mode": {
    "name": "ipython",
    "version": 3
   },
   "file_extension": ".py",
   "mimetype": "text/x-python",
   "name": "python",
   "nbconvert_exporter": "python",
   "pygments_lexer": "ipython3",
   "version": "3.8.3"
  }
 },
 "nbformat": 4,
 "nbformat_minor": 5
}
